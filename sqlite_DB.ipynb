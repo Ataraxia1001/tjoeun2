{
 "cells": [
  {
   "cell_type": "code",
   "execution_count": 1,
   "id": "2832c2bc",
   "metadata": {},
   "outputs": [],
   "source": [
    "import sqlite3"
   ]
  },
  {
   "cell_type": "code",
   "execution_count": 2,
   "id": "a53bb24e",
   "metadata": {},
   "outputs": [
    {
     "name": "stdout",
     "output_type": "stream",
     "text": [
      "(3, 33, 0)\n"
     ]
    }
   ],
   "source": [
    "print(sqlite3.sqlite_version_info)"
   ]
  },
  {
   "cell_type": "code",
   "execution_count": 39,
   "id": "0d68d442",
   "metadata": {},
   "outputs": [
    {
     "name": "stdout",
     "output_type": "stream",
     "text": [
      "--1 --\n"
     ]
    }
   ],
   "source": [
    "conn = sqlite3.connect(\"./sqlite_db\")\n",
    "cursor = conn.cursor()\n",
    "sql = 'drop table test_table'\n",
    "cursor.execute(sql)\n"
   ]
  },
  {
   "cell_type": "code",
   "execution_count": 41,
   "id": "fa219f91",
   "metadata": {},
   "outputs": [
    {
     "name": "stdout",
     "output_type": "stream",
     "text": [
      "--1 --\n",
      "--2 --\n",
      "--3 --\n",
      "('홍길동', '010-1111-1111', '서울시')\n",
      "('이순신', '010-2222-2222', '해남시')\n",
      "('강감찬', '010-1111-1111', '평양시')\n",
      "('홍길동', '010-1111-1111', '서울시')\n",
      "('이순신', '010-2222-2222', '해남시')\n",
      "('강감찬', '010-1111-1111', '평양시')\n",
      "이름 \t전화번호   \t주소\n",
      "홍길동 \t 010-1111-1111 \t 서울시\n",
      "이순신 \t 010-2222-2222 \t 해남시\n",
      "강감찬 \t 010-1111-1111 \t 평양시\n",
      "홍길동 \t 010-1111-1111 \t 서울시\n",
      "이순신 \t 010-2222-2222 \t 해남시\n",
      "강감찬 \t 010-1111-1111 \t 평양시\n"
     ]
    }
   ],
   "source": [
    "try:\n",
    "    conn = sqlite3.connect(\"./sqlite_db\")\n",
    "    cursor = conn.cursor()\n",
    "    sql = 'create table if not exists test_table(name text(10), phone text(15), addr text(50))'\n",
    "    cursor.execute(sql)\n",
    "  \n",
    "    cursor.execute(\"insert into test_table values('홍길동', '010-1111-1111', '서울시')\")\n",
    "    cursor.execute(\"insert into test_table values('이순신', '010-2222-2222', '해남시')\")\n",
    "    cursor.execute(\"insert into test_table values('강감찬', '010-1111-1111', '평양시')\")\n",
    "    conn.commit()\n",
    " \n",
    "    cursor.execute(\"select * from test_table\")\n",
    "    rows = cursor.fetchall()\n",
    "    \n",
    "\n",
    "    for row in rows :\n",
    "        print(row)\n",
    "    \n",
    "    print('이름 \\t전화번호   \\t주소')\n",
    "    for row in rows:\n",
    "        print(row[0], '\\t', row[1], '\\t', row[2])\n",
    "\n",
    "except Exception as e :\n",
    "    print('db 연동 실패 : ', e)\n",
    "    conn.rollback()\n",
    "\n",
    "finally:\n",
    "    cursor.close()\n",
    "    conn.close()"
   ]
  },
  {
   "cell_type": "code",
   "execution_count": 31,
   "id": "79f18b7d",
   "metadata": {},
   "outputs": [
    {
     "name": "stdout",
     "output_type": "stream",
     "text": [
      "1 냉장고 2 8500000.0\n",
      "2 세탁기 3 8500000.0\n",
      "3 전자레인지 0 0.0\n",
      "4 HDTV 0 15000000.0\n",
      "123 123 123 123.0\n",
      "검색된 레코드 수 :  5\n",
      "상품명 입력 : 냉장고\n",
      "(1, '냉장고', 2, 8500000.0)\n"
     ]
    }
   ],
   "source": [
    "try:\n",
    "    conn = sqlite3.connect(\"./sqlite_db\")\n",
    "    cursor = conn.cursor()\n",
    "    sql = \"\"\"create table if not exists goods(\n",
    "    code integer primary key,\n",
    "    name text(30) unique not null,\n",
    "    su integer default 0,\n",
    "    dan real default 0.0\n",
    "    )\"\"\"\n",
    "    cursor.execute(sql)\n",
    "    \n",
    "#     cursor.execute(\"insert into goods values(1, '냉장고', 2, 8500000)\")\n",
    "#     cursor.execute(\"insert into goods values(2, '세탁기', 3, 5500000)\")\n",
    "#     cursor.execute(\"insert into goods(code, name) values(3, '전자레인지')\")\n",
    "#     cursor.execute(\"insert into goods(code, name, dan) values(4, 'HDTV', 15000000)\")\n",
    "#     conn.commit()\n",
    "    \n",
    "    sql = \"select * from goods\"\n",
    "    cursor.execute(sql)\n",
    "    rows = cursor.fetchall()\n",
    "    \n",
    "    for row in rows:\n",
    "        print(row[0], row[1], row[2], row[3])\n",
    "        \n",
    "    print('검색된 레코드 수 : ', len(rows))\n",
    "\n",
    "    name = input(\"상품명 입력 : \")\n",
    "    sql = f\"select * from goods where name like '%{name}%'\"\n",
    "    cursor.execute(sql)\n",
    "    rows = cursor.fetchall()\n",
    "\n",
    "    if rows :\n",
    "        for row in rows:\n",
    "            print(row)\n",
    "    else:\n",
    "        print('검색된 레코드 없음')\n",
    "\n",
    "except Exception as e :\n",
    "    print('db 연동 error :', e)\n",
    "    conn.rollback()\n",
    "\n",
    "finally:\n",
    "    cursor.close()\n",
    "    conn.close()"
   ]
  },
  {
   "cell_type": "code",
   "execution_count": 23,
   "id": "b92a21fe",
   "metadata": {},
   "outputs": [
    {
     "name": "stdout",
     "output_type": "stream",
     "text": [
      "code 입력 : 123\n",
      "name 입력 : 123\n",
      "su 입력 : 123\n",
      "dan 입력 : 123\n",
      "1 냉장고 2 8500000.0\n",
      "2 세탁기 3 8500000.0\n",
      "3 전자레인지 0 0.0\n",
      "4 HDTV 0 15000000.0\n",
      "123 123 123 123.0\n",
      "검색된 레코드 수 :  5\n",
      "상품명 입력 : 123\n",
      "(123, '123', 123, 123.0)\n"
     ]
    }
   ],
   "source": [
    "try:\n",
    "    conn = sqlite3.connect(\"./sqlite_db\")\n",
    "    cursor = conn.cursor()\n",
    "    sql = \"\"\"create table if not exists goods(\n",
    "    code integer primary key,\n",
    "    name text(30) unique not null,\n",
    "    su integer default 0,\n",
    "    dan real default 0.0\n",
    "    )\"\"\"\n",
    "    cursor.execute(sql)\n",
    "    \n",
    "    cursor.execute(\"insert into goods values(1, '냉장고', 2, 8500000)\")\n",
    "    cursor.execute(\"insert into goods values(2, '세탁기', 3, 8500000)\")\n",
    "    cursor.execute(\"insert into goods(code, name) values(3, '전자레인지')\")\n",
    "    cursor.execute(\"insert into goods(code, name, dan) values(4, 'HDTV', 15000000)\")\n",
    "    conn.commit()\n",
    "    \n",
    "    code = int(input('code 입력 : '))\n",
    "    name = input('name 입력 : ') \n",
    "    su = int(input('su 입력 : '))\n",
    "    dan = int(input('dan 입력 : '))\n",
    "    sql = f\"insert into goods values({code}, '{name}', {su}, {dan})\"\n",
    "    cursor.execute(sql)\n",
    "    conn.commit()\n",
    "    \n",
    "    '''\n",
    "    code = int(input('수정 code 입력 : '))\n",
    "    su = int(input('수정 su 입력 : '))\n",
    "    dan = int(input('수정 dan 입력 : '))\n",
    "    \n",
    "    sql = f\"update goods set su = {su}, dan={dan} where code = {code}\"\n",
    "    cursor.execute(sql)\n",
    "    conn.commit()\n",
    "    '''\n",
    "    \n",
    "    sql = \"select * from goods\"\n",
    "    cursor.execute(sql)\n",
    "    rows = cursor.fetchall()\n",
    "    \n",
    "    for row in rows :\n",
    "        print(row[0], row[1], row[2], row[3])\n",
    "    print('검색된 레코드 수 : ', len(rows))\n",
    "    \n",
    "    name = input(\"상품명 입력 : \")\n",
    "    sql = f\"select * from goods where name like '%{name}'\"\n",
    "    cursor.execute(sql)\n",
    "    rows = cursor.fetchall()\n",
    "    \n",
    "    if rows :\n",
    "        for row in rows :\n",
    "            print(row)\n",
    "    else :\n",
    "        print('검색된 레코드 없음')\n",
    "    \n",
    "except Exception as e :\n",
    "    print('db 연동 error :', e)\n",
    "    conn.rollback()\n",
    "\n",
    "finally:\n",
    "    cursor.close()\n",
    "    conn.close()"
   ]
  },
  {
   "cell_type": "code",
   "execution_count": null,
   "id": "b3b1a575",
   "metadata": {},
   "outputs": [],
   "source": []
  },
  {
   "cell_type": "code",
   "execution_count": null,
   "id": "863ba452",
   "metadata": {},
   "outputs": [],
   "source": []
  },
  {
   "cell_type": "code",
   "execution_count": null,
   "id": "409f691d",
   "metadata": {},
   "outputs": [],
   "source": []
  },
  {
   "cell_type": "code",
   "execution_count": null,
   "id": "633cf4e8",
   "metadata": {},
   "outputs": [],
   "source": []
  }
 ],
 "metadata": {
  "kernelspec": {
   "display_name": "Python 3 (ipykernel)",
   "language": "python",
   "name": "python3"
  },
  "language_info": {
   "codemirror_mode": {
    "name": "ipython",
    "version": 3
   },
   "file_extension": ".py",
   "mimetype": "text/x-python",
   "name": "python",
   "nbconvert_exporter": "python",
   "pygments_lexer": "ipython3",
   "version": "3.8.7"
  }
 },
 "nbformat": 4,
 "nbformat_minor": 5
}
