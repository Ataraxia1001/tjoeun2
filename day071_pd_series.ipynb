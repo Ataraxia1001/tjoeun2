{
 "cells": [
  {
   "cell_type": "code",
   "execution_count": 3,
   "metadata": {},
   "outputs": [],
   "source": [
    "import pandas as pd"
   ]
  },
  {
   "cell_type": "code",
   "execution_count": 4,
   "metadata": {},
   "outputs": [
    {
     "data": {
      "text/plain": [
       "1         5\n",
       "2        11\n",
       "3        14\n",
       "4        30\n",
       "5        33\n",
       "6        38\n",
       "bonus    24\n",
       "dtype: int64"
      ]
     },
     "execution_count": 4,
     "metadata": {},
     "output_type": "execute_result"
    }
   ],
   "source": [
    "d = {'1': 5, '2': 11, '3': 14, '4':30, '5':33, '6':38, 'bonus':24}\n",
    "ser = pd.Series(data=d, index=['1', '2', '3', '4', '5', '6', 'bonus'])\n",
    "ser"
   ]
  },
  {
   "cell_type": "code",
   "execution_count": 4,
   "metadata": {},
   "outputs": [
    {
     "data": {
      "text/plain": [
       "홍길동     [50, 60, 50]\n",
       "이순신     [60, 60, 60]\n",
       "강감찬    [100, 90, 90]\n",
       "유관순     [80, 80, 90]\n",
       "강환석     [95, 95, 95]\n",
       "dtype: object"
      ]
     },
     "execution_count": 4,
     "metadata": {},
     "output_type": "execute_result"
    }
   ],
   "source": [
    "jumsu = {\n",
    "'홍길동' : [50,60,50],\n",
    "'이순신' : [60,60,60],\n",
    "'강감찬' : [100,90,90],\n",
    "'유관순' : [80,80,90],\n",
    "'강환석' : [95,95,95],\n",
    "}\n",
    "\n",
    "ser2 = pd.Series(jumsu)\n",
    "ser2"
   ]
  },
  {
   "cell_type": "code",
   "execution_count": 19,
   "metadata": {},
   "outputs": [
    {
     "data": {
      "text/plain": [
       "홍길동    53.33\n",
       "이순신    60.00\n",
       "강감찬    93.33\n",
       "유관순    83.33\n",
       "강환석    95.00\n",
       "dtype: float64"
      ]
     },
     "execution_count": 19,
     "metadata": {},
     "output_type": "execute_result"
    }
   ],
   "source": [
    "mean_values = ser2.apply(lambda x: sum(x) / len(x))\n",
    "mean = mean_values.round(2)\n",
    "mean"
   ]
  },
  {
   "cell_type": "code",
   "execution_count": 22,
   "metadata": {},
   "outputs": [
    {
     "name": "stdout",
     "output_type": "stream",
     "text": [
      "-홍길동---이순신---강감찬---유관순---강환석-\n",
      "-53.33점--60.0점--93.33점--83.33점--95.0점-\n"
     ]
    }
   ],
   "source": [
    "print(f'-{ser2.index[0]}---{ser2.index[1]}---{ser2.index[2]}---{ser2.index[3]}---{ser2.index[4]}-')\n",
    "print(f'-{mean[0]}점--{mean[1]}점--{mean[2]}점--{mean[3]}점--{mean[4]}점-')"
   ]
  },
  {
   "cell_type": "code",
   "execution_count": 23,
   "metadata": {},
   "outputs": [
    {
     "name": "stdout",
     "output_type": "stream",
     "text": [
      "-홍길동---이순신---강감찬---유관순---강환석--\n",
      "-53.33점--60.00점--93.33점--83.33점--95.00점-"
     ]
    }
   ],
   "source": [
    "# Solution \n",
    "import numpy as np\n",
    "import time\n",
    "from datetime import datetime, date\n",
    "import pandas as pd \n",
    "import numpy as np\n",
    "import matplotlib.pyplot as plt\n",
    "#\n",
    "jumsu = {\n",
    "'홍길동' : [50,60,50],\n",
    "'이순신' : [60,60,60],\n",
    "'강감찬' : [100,90,90],\n",
    "'유관순' : [80,80,90],\n",
    "'강환석' : [95,95,95],\n",
    "}\n",
    "s1_jumsu = pd.Series(jumsu)\n",
    "for i in s1_jumsu.index:\n",
    "    print('-' + i + '-', end='-')\n",
    "print()\n",
    "for i in s1_jumsu.values:\n",
    "    #print(i)\n",
    "    #print(type(i))\n",
    "    print( '-{:.2f}점-'.format( np.mean(i)), end='')  \n",
    "        # np는 numpy 라이브러리를 말함 np.mean()은 평균 함수임"
   ]
  },
  {
   "cell_type": "code",
   "execution_count": 25,
   "metadata": {},
   "outputs": [
    {
     "name": "stdout",
     "output_type": "stream",
     "text": [
      "-홍길동---이순신---강감찬---유관순---강환석--\n",
      "-60.00점--60.00점--100.00점--90.00점--95.00점-\n",
      "-50.00점--60.00점--90.00점--80.00점--95.00점-"
     ]
    }
   ],
   "source": [
    "# 071일차-실습-0-3- Solution\n",
    "import numpy as np\n",
    "import pandas as pd \n",
    "#\n",
    "jumsu = {\n",
    "'홍길동' : [50,60,50],\n",
    "'이순신' : [60,60,60],\n",
    "'강감찬' : [100,90,90],\n",
    "'유관순' : [80,80,90],\n",
    "'강환석' : [95,95,95],\n",
    "}\n",
    "s1_jumsu = pd.Series(jumsu)\n",
    "for i in s1_jumsu.index:\n",
    "    print('-' + i + '-', end='-')\n",
    "print()\n",
    "for i in s1_jumsu.values:\n",
    "    print( '-{:.2f}점-'.format( np.max(i)), end='')  # np.max()은 최대값 함수임\n",
    "print()\n",
    "for i in s1_jumsu.values:\n",
    "    print( '-{:.2f}점-'.format( np.min(i)), end='')  # np.min()은 최소값 함수임"
   ]
  },
  {
   "cell_type": "code",
   "execution_count": null,
   "metadata": {},
   "outputs": [],
   "source": [
    "# new problem "
   ]
  },
  {
   "cell_type": "code",
   "execution_count": 32,
   "metadata": {},
   "outputs": [
    {
     "name": "stdout",
     "output_type": "stream",
     "text": [
      "dict_keys(['홍길동', '이순동', '강감동', '유관동', '홍길도', '이순도', '강감도', '유관도', '홍길재', '이순재', '강감재', '유관재', '강환석'])\n",
      "dict_values([[50, 60, 50], [60, 60, 60], [100, 90, 90], [80, 80, 90], [50, 45, 50], [80, 70, 66], [64, 49, 50], [60, 50, 50], [50, 45, 51], [80, 70, 61], [64, 49, 51], [60, 50, 51], [95, 95, 95]])\n"
     ]
    }
   ],
   "source": [
    "jumsu = {\n",
    "'홍길동' : [50,60,50],\n",
    "'이순동' : [60,60,60],\n",
    "'강감동' : [100,90,90],\n",
    "'유관동' : [80,80,90],\n",
    "'홍길도' : [50,45,50],\n",
    "'이순도' : [80,70,66],\n",
    "'강감도' : [64,49,50],\n",
    "'유관도' : [60,50,50],\n",
    "'홍길재' : [50,45,51],\n",
    "'이순재' : [80,70,61],\n",
    "'강감재' : [64,49,51],\n",
    "'유관재' : [60,50,51],\n",
    "'강환석' : [95,95,95]\n",
    "}\n",
    "keys = jumsu.keys()\n",
    "values = jumsu.values()\n",
    "print(keys)\n",
    "print(values)"
   ]
  },
  {
   "cell_type": "code",
   "execution_count": 33,
   "metadata": {},
   "outputs": [
    {
     "ename": "AttributeError",
     "evalue": "'dict_values' object has no attribute 'mean'",
     "output_type": "error",
     "traceback": [
      "\u001b[1;31m---------------------------------------------------------------------------\u001b[0m",
      "\u001b[1;31mAttributeError\u001b[0m                            Traceback (most recent call last)",
      "Cell \u001b[1;32mIn[33], line 1\u001b[0m\n\u001b[1;32m----> 1\u001b[0m values\u001b[39m.\u001b[39;49mmean()\n",
      "\u001b[1;31mAttributeError\u001b[0m: 'dict_values' object has no attribute 'mean'"
     ]
    }
   ],
   "source": [
    "values.mean()"
   ]
  },
  {
   "cell_type": "code",
   "execution_count": 37,
   "metadata": {},
   "outputs": [
    {
     "data": {
      "text/plain": [
       "홍길동    53.33\n",
       "이순동    60.00\n",
       "강감동    93.33\n",
       "유관동    83.33\n",
       "홍길도    48.33\n",
       "이순도    72.00\n",
       "강감도    54.33\n",
       "유관도    53.33\n",
       "홍길재    48.67\n",
       "이순재    70.33\n",
       "강감재    54.67\n",
       "유관재    53.67\n",
       "강환석    95.00\n",
       "dtype: float64"
      ]
     },
     "execution_count": 37,
     "metadata": {},
     "output_type": "execute_result"
    }
   ],
   "source": [
    "s1_jumsu = pd.Series(jumsu)\n",
    "mean_values = s1_jumsu.apply(lambda x: sum(x) / len(x)).round(2)\n",
    "mean_values"
   ]
  },
  {
   "cell_type": "code",
   "execution_count": 39,
   "metadata": {},
   "outputs": [
    {
     "name": "stdout",
     "output_type": "stream",
     "text": [
      "53.33\n",
      "48.33\n",
      "54.33\n",
      "53.33\n",
      "48.67\n",
      "54.67\n",
      "53.67\n"
     ]
    }
   ],
   "source": []
  },
  {
   "cell_type": "code",
   "execution_count": 52,
   "metadata": {},
   "outputs": [
    {
     "name": "stdout",
     "output_type": "stream",
     "text": [
      "0\n",
      "홍길동\n",
      "[50, 60, 50]\n",
      "------------\n",
      "1\n",
      "이순동\n",
      "[60, 60, 60]\n",
      "------------\n",
      "2\n",
      "강감동\n",
      "[100, 90, 90]\n",
      "------------\n",
      "3\n",
      "유관동\n",
      "[80, 80, 90]\n",
      "------------\n",
      "4\n",
      "홍길도\n",
      "[50, 45, 50]\n",
      "------------\n",
      "5\n",
      "이순도\n",
      "[80, 70, 66]\n",
      "------------\n",
      "6\n",
      "강감도\n",
      "[64, 49, 50]\n",
      "------------\n",
      "7\n",
      "유관도\n",
      "[60, 50, 50]\n",
      "------------\n",
      "8\n",
      "홍길재\n",
      "[50, 45, 51]\n",
      "------------\n",
      "9\n",
      "이순재\n",
      "[80, 70, 61]\n",
      "------------\n",
      "10\n",
      "강감재\n",
      "[64, 49, 51]\n",
      "------------\n",
      "11\n",
      "유관재\n",
      "[60, 50, 51]\n",
      "------------\n",
      "12\n",
      "강환석\n",
      "[95, 95, 95]\n",
      "------------\n"
     ]
    }
   ],
   "source": [
    "for i in range(len(s1_jumsu)):\n",
    "    print(i)\n",
    "    print(s1_jumsu.keys()[i])\n",
    "    print(s1_jumsu[i])\n",
    "    print('------------')\n",
    "    \n"
   ]
  },
  {
   "cell_type": "code",
   "execution_count": 75,
   "metadata": {},
   "outputs": [
    {
     "name": "stdout",
     "output_type": "stream",
     "text": [
      "0\n",
      "53.33\n",
      "홍길동\n",
      "4\n",
      "48.33\n",
      "홍길도\n",
      "6\n",
      "54.33\n",
      "강감도\n",
      "7\n",
      "53.33\n",
      "유관도\n",
      "8\n",
      "48.67\n",
      "홍길재\n",
      "10\n",
      "54.67\n",
      "강감재\n",
      "11\n",
      "53.67\n",
      "유관재\n"
     ]
    }
   ],
   "source": [
    "name_lis = []\n",
    "values_lis = []\n",
    "for i in range(len(s1_jumsu)):\n",
    "    mean_values = s1_jumsu.apply(lambda x: sum(x) / len(x)).round(2)\n",
    "\n",
    "    if mean_values[i] < 60:\n",
    "        print(i)\n",
    "        print(mean_values[i])\n",
    "        print(s1_jumsu.index[i])\n",
    "        name_lis.append(s1_jumsu.index[i])\n",
    "        values_lis.append(mean_values[i])\n",
    "    else:\n",
    "        pass\n"
   ]
  },
  {
   "cell_type": "code",
   "execution_count": 76,
   "metadata": {},
   "outputs": [
    {
     "name": "stdout",
     "output_type": "stream",
     "text": [
      "['홍길동', '홍길도', '강감도', '유관도', '홍길재', '강감재', '유관재']\n",
      "[53.33, 48.33, 54.33, 53.33, 48.67, 54.67, 53.67]\n"
     ]
    }
   ],
   "source": [
    "print(name_lis)\n",
    "print(values_lis)"
   ]
  },
  {
   "cell_type": "code",
   "execution_count": 79,
   "metadata": {},
   "outputs": [
    {
     "name": "stdout",
     "output_type": "stream",
     "text": [
      "-홍길동---홍길도---강감도---유관도---홍길재---강감재---유관재--\n",
      "-53.33점--48.33점--54.33점--53.33점--48.67점--54.67점--53.67점-"
     ]
    }
   ],
   "source": [
    "for i in name_lis:\n",
    "    print('-' + i + '-', end='-')\n",
    "print()\n",
    "for i in values_lis:\n",
    "\n",
    "    print( '-{:.2f}점-'.format( np.mean(i)), end='')  \n"
   ]
  },
  {
   "cell_type": "code",
   "execution_count": 80,
   "metadata": {},
   "outputs": [
    {
     "name": "stdout",
     "output_type": "stream",
     "text": [
      "홍길동-홍길도-강감도-유관도-홍길재-강감재-유관재-\n",
      "53.33--48.33--54.33--53.33--48.67--54.67--53.67--\n"
     ]
    }
   ],
   "source": [
    "# 실습-0-4- Solution\n",
    "import numpy as np\n",
    "import pandas as pd \n",
    "#\n",
    "jumsu = {'홍길동' : [50,60,50],'이순동' : [60,60,60],'강감동' : [100,90,90],'유관동' : [80,80,90],\n",
    "'홍길도' : [50,45,50],'이순도' : [80,70,66],'강감도' : [64,49,50],'유관도' : [60,50,50],'홍길재' : [50,45,51],\n",
    "'이순재' : [80,70,61],'강감재' : [64,49,51],'유관재' : [60,50,51],'강환석' : [95,95,95]}\n",
    "# 딕셔너리의 요소중에 평균 점수가 60점 미만인 것만 필터링 하는 루틴\n",
    "jumsu2 = dict(  {   key : round(np.mean(value),2)   for key, value  in jumsu.items() if np.mean(value)<60  } )\n",
    "                                                                     # jumsu 딕셔너리의 밸류 중에서 평균이 60 미만인 것만 \n",
    "                                                                     # 뽑아낸 쌍을 items() 튜플에 할당하고 튜플의 요소를 \n",
    "                                                                     # unpacking하여 key, value 라는 변수에 할당하는 for문 \n",
    "                                                                     # items() 함수는 Key와 Value의 쌍을 튜플로 묶은 값을 dict_items  \n",
    "                                                                     # 객체로반환함. 이 구절에서는 튜플로 묶은 dict_items 객체를 \n",
    "                                                                     # in 연산자 왼쪽의  key, value에 unpacking하였다\n",
    "                           # for 문으로 발생한 key, value를 \n",
    "                           # 각각 key와 round(np.mean(value),2)의 쌍으로 구성하고 이것을\n",
    "                # dict() 형변환 함수로 변환하여 jumsu2 딕셔너리로 생성한다.\n",
    "#\n",
    "#print(type(jumsu2)) # 서비스 코드임\n",
    "#print(jumsu2)       # 서비스 코드임\n",
    "#\n",
    "jumsu3 = pd.Series(jumsu2)\n",
    "for i in jumsu3.index:\n",
    "    print(i, end=\"-\")\n",
    "print()\n",
    "for i in jumsu3:\n",
    "    print(i, end=\"--\")\n",
    "print()"
   ]
  },
  {
   "cell_type": "code",
   "execution_count": null,
   "metadata": {},
   "outputs": [],
   "source": []
  },
  {
   "cell_type": "code",
   "execution_count": null,
   "metadata": {},
   "outputs": [],
   "source": []
  }
 ],
 "metadata": {
  "kernelspec": {
   "display_name": "Python 3",
   "language": "python",
   "name": "python3"
  },
  "language_info": {
   "codemirror_mode": {
    "name": "ipython",
    "version": 3
   },
   "file_extension": ".py",
   "mimetype": "text/x-python",
   "name": "python",
   "nbconvert_exporter": "python",
   "pygments_lexer": "ipython3",
   "version": "3.8.7"
  },
  "orig_nbformat": 4
 },
 "nbformat": 4,
 "nbformat_minor": 2
}
