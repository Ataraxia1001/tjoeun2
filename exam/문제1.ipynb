{
 "cells": [
  {
   "cell_type": "code",
   "execution_count": 4,
   "metadata": {},
   "outputs": [],
   "source": [
    "import sqlite3"
   ]
  },
  {
   "cell_type": "code",
   "execution_count": 5,
   "metadata": {},
   "outputs": [
    {
     "name": "stdout",
     "output_type": "stream",
     "text": [
      "(3, 33, 0)\n"
     ]
    }
   ],
   "source": [
    "print(sqlite3.sqlite_version_info)"
   ]
  },
  {
   "cell_type": "code",
   "execution_count": 13,
   "metadata": {},
   "outputs": [
    {
     "data": {
      "text/plain": [
       "<sqlite3.Cursor at 0x1b3fd02eb90>"
      ]
     },
     "execution_count": 13,
     "metadata": {},
     "output_type": "execute_result"
    }
   ],
   "source": [
    "conn = sqlite3.connect(\"./data/sqlite_db.db\")\n",
    "cursor = conn.cursor()\n",
    "sql = 'drop table course'\n",
    "cursor.execute(sql)"
   ]
  },
  {
   "cell_type": "code",
   "execution_count": 6,
   "metadata": {},
   "outputs": [
    {
     "name": "stdout",
     "output_type": "stream",
     "text": [
      "('20180101', '홍길동', '200229', '3234567', '서울시', '서대1구')\n",
      "('20180102', '이순신', '720229', '1234567', '수원시', '서대2구')\n",
      "('20180103', '강감찬', '781212', '1328399', '강릉시', '서대3구')\n",
      "('20190101', '이성계', '790307', '2262722', '부산시', '서대4구')\n",
      "('20190102', '을지문덕', '780618', '2258211', '대구시', '서대5구')\n",
      "('20190103', '연개소문', '771009', '2215327', '울산시', '서대6구')\n",
      "('20190104', '안중근', '780209', '1573216', '이천시', '서대7구')\n",
      "('20200101', '김구', '770515', '2024213', '동두천시', '서대8구')\n",
      "('20200102', '정도전', '800613', '1078166', '대전시', '서대9구')\n",
      "('20200103', '이황', '720711', '2024219', '세종시', '서대10구')\n"
     ]
    }
   ],
   "source": [
    "try:\n",
    "    conn = sqlite3.connect(\"./data/sqlite_db.db\")\n",
    "    cursor = conn.cursor()\n",
    "    sql = 'create table if not exists stud(studID text(8), name text(20), jumin1 text(6), jumin2 text(7), addr1 text(20), addr2 text(20))'\n",
    "    cursor.execute(sql)\n",
    "  \n",
    "    cursor.execute(\"insert into stud values('20180101', '홍길동', '200229', '3234567', '서울시', '서대1구')\")\n",
    "    cursor.execute(\"insert into stud values('20180102', '이순신', '720229', '1234567',  '수원시', '서대2구')\")\n",
    "    cursor.execute(\"insert into stud values('20180103', '강감찬', '781212', '1328399', '강릉시', '서대3구')\")\n",
    "    cursor.execute(\"insert into stud values('20190101', '이성계', '790307', '2262722', '부산시', '서대4구')\")\n",
    "    cursor.execute(\"insert into stud values('20190102', '을지문덕', '780618', '2258211', '대구시', '서대5구')\")\n",
    "    cursor.execute(\"insert into stud values('20190103', '연개소문', '771009', '2215327', '울산시', '서대6구')\")\n",
    "    cursor.execute(\"insert into stud values('20190104', '안중근', '780209', '1573216', '이천시', '서대7구')\")\n",
    "    cursor.execute(\"insert into stud values('20200101', '김구', '770515', '2024213', '동두천시', '서대8구')\")\n",
    "    cursor.execute(\"insert into stud values('20200102', '정도전', '800613', '1078166', '대전시', '서대9구')\")\n",
    "    cursor.execute(\"insert into stud values('20200103', '이황', '720711', '2024219', '세종시', '서대10구')\")   \n",
    "    conn.commit()\n",
    " \n",
    "    cursor.execute(\"select * from stud\")\n",
    "    rows = cursor.fetchall()\n",
    "    \n",
    "\n",
    "    for row in rows :\n",
    "        print(row)\n",
    "    \n",
    "    # # print('이름 \\t전화번호   \\t주소')\n",
    "    # for row in rows:\n",
    "    #     print(row[0], '\\t', row[1], '\\t', row[2])\n",
    "\n",
    "except Exception as e :\n",
    "    print('db 연동 실패 : ', e)\n",
    "    conn.rollback()\n",
    "\n",
    "finally:\n",
    "    cursor.close()\n",
    "    conn.close()"
   ]
  },
  {
   "cell_type": "code",
   "execution_count": 14,
   "metadata": {},
   "outputs": [
    {
     "name": "stdout",
     "output_type": "stream",
     "text": [
      "('01', '국어')\n",
      "('02', '영어')\n",
      "('03', '수학')\n"
     ]
    }
   ],
   "source": [
    "try:\n",
    "    conn = sqlite3.connect(\"./data/sqlite_db.db\")\n",
    "    cursor = conn.cursor()\n",
    "    sql = 'create table if not exists course(courseID text(02), CourseName text(10))'\n",
    "    cursor.execute(sql)\n",
    "  \n",
    "    cursor.execute(\"insert into course values('01', '국어')\")\n",
    "    cursor.execute(\"insert into course values('02', '영어')\")\n",
    "    cursor.execute(\"insert into course values('03', '수학')\")\n",
    "    conn.commit()\n",
    " \n",
    "    cursor.execute(\"select * from course\")\n",
    "    rows = cursor.fetchall()\n",
    "    \n",
    "\n",
    "    for row in rows :\n",
    "        print(row)\n",
    "    \n",
    "    # # print('이름 \\t전화번호   \\t주소')\n",
    "    # for row in rows:\n",
    "    #     print(row[0], '\\t', row[1], '\\t', row[2])\n",
    "\n",
    "except Exception as e :\n",
    "    print('db 연동 실패 : ', e)\n",
    "    conn.rollback()\n",
    "\n",
    "finally:\n",
    "    cursor.close()\n",
    "    conn.close()"
   ]
  },
  {
   "cell_type": "code",
   "execution_count": 15,
   "metadata": {},
   "outputs": [
    {
     "name": "stdout",
     "output_type": "stream",
     "text": [
      "('01', '국어')\n",
      "('02', '영어')\n",
      "('03', '수학')\n",
      "('01', '국어')\n",
      "('02', '영어')\n",
      "('03', '수학')\n"
     ]
    }
   ],
   "source": [
    "try:\n",
    "    conn = sqlite3.connect(\"./data/sqlite_db.db\")\n",
    "    cursor = conn.cursor()\n",
    "    sql = 'create table if not exists score(studID text(08), CourseID text(02), score integer(03))'\n",
    "    cursor.execute(sql)\n",
    "  \n",
    "    cursor.execute(\"insert into score values('01', '국어')\")\n",
    "    cursor.execute(\"insert into course values('02', '영어')\")\n",
    "    cursor.execute(\"insert into course values('03', '수학')\")\n",
    "    conn.commit()\n",
    " \n",
    "    cursor.execute(\"select * from score\")\n",
    "    rows = cursor.fetchall()\n",
    "    \n",
    "\n",
    "    for row in rows :\n",
    "        print(row)\n",
    "    \n",
    "    # # print('이름 \\t전화번호   \\t주소')\n",
    "    # for row in rows:\n",
    "    #     print(row[0], '\\t', row[1], '\\t', row[2])\n",
    "\n",
    "except Exception as e :\n",
    "    print('db 연동 실패 : ', e)\n",
    "    conn.rollback()\n",
    "\n",
    "finally:\n",
    "    cursor.close()\n",
    "    conn.close()"
   ]
  },
  {
   "cell_type": "code",
   "execution_count": null,
   "metadata": {},
   "outputs": [],
   "source": []
  },
  {
   "cell_type": "code",
   "execution_count": null,
   "metadata": {},
   "outputs": [],
   "source": []
  },
  {
   "cell_type": "code",
   "execution_count": null,
   "metadata": {},
   "outputs": [],
   "source": []
  },
  {
   "cell_type": "code",
   "execution_count": null,
   "metadata": {},
   "outputs": [],
   "source": []
  }
 ],
 "metadata": {
  "kernelspec": {
   "display_name": "Python 3",
   "language": "python",
   "name": "python3"
  },
  "language_info": {
   "codemirror_mode": {
    "name": "ipython",
    "version": 3
   },
   "file_extension": ".py",
   "mimetype": "text/x-python",
   "name": "python",
   "nbconvert_exporter": "python",
   "pygments_lexer": "ipython3",
   "version": "3.8.7"
  },
  "orig_nbformat": 4
 },
 "nbformat": 4,
 "nbformat_minor": 2
}
