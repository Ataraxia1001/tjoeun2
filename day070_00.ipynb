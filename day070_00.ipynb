{
 "cells": [
  {
   "cell_type": "code",
   "execution_count": 13,
   "metadata": {},
   "outputs": [
    {
     "name": "stdout",
     "output_type": "stream",
     "text": [
      "3 6\n",
      "이름\n",
      "Kei\n"
     ]
    }
   ],
   "source": [
    "import openpyxl\n",
    "wb = openpyxl.load_workbook('./sample.xlsx')\n",
    "sheet = wb['Sheet1']\n",
    "\n",
    "print(sheet.max_column, sheet.max_row)\n",
    "print(sheet.cell(row=1, column=1).value)\n",
    "print(sheet.cell(row=2, column=1).value)\n",
    "wb.close()"
   ]
  },
  {
   "cell_type": "code",
   "execution_count": 14,
   "metadata": {},
   "outputs": [
    {
     "name": "stdout",
     "output_type": "stream",
     "text": [
      "Kei\n",
      "35\n",
      "1234-1234\n",
      "----------\n",
      "Hong\n",
      "26\n",
      "4320-1420\n",
      "----------\n"
     ]
    }
   ],
   "source": [
    "wb = openpyxl.load_workbook('./sample.xlsx')\n",
    "sheet = wb['Sheet1']\n",
    "\n",
    "cells = sheet['A2':'C3']\n",
    "for row in cells:   # enumerate rows\n",
    "    for cell in row:    # enumerate columns\n",
    "        print(cell.value)\n",
    "    print('-'*10)  # one row is printed, then next.\n",
    "\n",
    "wb.close()"
   ]
  },
  {
   "cell_type": "code",
   "execution_count": 15,
   "metadata": {},
   "outputs": [],
   "source": [
    "wb = openpyxl.Workbook()\n",
    "sheet = wb.active\n",
    "sheet.title = '회원정보'\n",
    "header_titles = ['이름', '전화번호']\n",
    "for idx, title in enumerate(header_titles):\n",
    "    sheet.cell(row = 1, column = idx+1, value=title)\n",
    "\n",
    "members = [('kei', '010-1234-1234'), ('hong', '010-4321-1234')]\n",
    "row_num = 2\n",
    "for r, member in enumerate(members):\n",
    "    for c, v in enumerate(member):\n",
    "        sheet.cell(row=row_num+r, column = c+1, value=v)\n",
    "\n",
    "wb.save('./members.xlsx')\n",
    "wb.close()\n",
    "\n",
    "\n"
   ]
  },
  {
   "cell_type": "code",
   "execution_count": null,
   "metadata": {},
   "outputs": [],
   "source": []
  }
 ],
 "metadata": {
  "kernelspec": {
   "display_name": "Python 3",
   "language": "python",
   "name": "python3"
  },
  "language_info": {
   "codemirror_mode": {
    "name": "ipython",
    "version": 3
   },
   "file_extension": ".py",
   "mimetype": "text/x-python",
   "name": "python",
   "nbconvert_exporter": "python",
   "pygments_lexer": "ipython3",
   "version": "3.8.7"
  },
  "orig_nbformat": 4
 },
 "nbformat": 4,
 "nbformat_minor": 2
}
