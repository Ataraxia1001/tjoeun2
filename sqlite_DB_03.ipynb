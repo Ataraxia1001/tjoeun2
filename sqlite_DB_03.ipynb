{
 "cells": [
  {
   "cell_type": "code",
   "execution_count": 26,
   "metadata": {},
   "outputs": [],
   "source": [
    "import sqlite3"
   ]
  },
  {
   "cell_type": "code",
   "execution_count": 27,
   "metadata": {},
   "outputs": [
    {
     "name": "stdout",
     "output_type": "stream",
     "text": [
      "(3, 33, 0)\n"
     ]
    }
   ],
   "source": [
    "print(sqlite3.sqlite_version_info)"
   ]
  },
  {
   "cell_type": "code",
   "execution_count": 38,
   "metadata": {},
   "outputs": [
    {
     "data": {
      "text/plain": [
       "<sqlite3.Cursor at 0x25c3049fd50>"
      ]
     },
     "execution_count": 38,
     "metadata": {},
     "output_type": "execute_result"
    }
   ],
   "source": [
    "conn = sqlite3.connect(\"./data/sqlite3.db\")\n",
    "cursor = conn.cursor()\n",
    "sql = 'drop table item'\n",
    "cursor.execute(sql)"
   ]
  },
  {
   "cell_type": "code",
   "execution_count": 47,
   "metadata": {},
   "outputs": [
    {
     "name": "stdout",
     "output_type": "stream",
     "text": [
      "===상품조회2===\n",
      "조회할 코드를 입력하세요 : 7\n",
      "조회결과 입력한 코드에 맞는 상품이 없습니다.\n"
     ]
    }
   ],
   "source": [
    "# 요구사항별로 하나씩 실행. 사용안할 요구사항은 주석처리후 run\n",
    "\n",
    "try:\n",
    "    conn = sqlite3.connect(\"./data/sqlite3.db\")\n",
    "    cursor = conn.cursor()\n",
    "    sql = 'create table if not exists item(code integer, name text(30), qty integer default 0, unit_price real default 0.0)'\n",
    "    cursor.execute(sql)\n",
    "\n",
    "    #요구사항 2-3\n",
    "    code = int(input('code 입력 : '))\n",
    "    name = input('name 입력 : ') \n",
    "    qty = int(input('qty 입력 : '))\n",
    "    unit_price = int(input('unit_price 입력 : '))\n",
    "    sql = f\"insert into item values({code}, '{name}', {qty}, {unit_price})\"\n",
    "    cursor.execute(sql)\n",
    "    conn.commit()\n",
    "    print('===상품등록===')\n",
    "    print(f\"상품코드 입력: {code}\\n상품명 입력: {name}\\n수량 입력: {qty}\\n단가 입력: {unit_price}\")\n",
    "    print('상품등록을 성공했습니다.')\n",
    "\n",
    "\n",
    "    #요구사항4\n",
    "    sql = \"select * from item\"\n",
    "    cursor.execute(sql)\n",
    "    rows = cursor.fetchall()\n",
    "    print('===상품조회1===')\n",
    "    print('(code, name, qty, price)')\n",
    "    for row in rows :\n",
    "        print(row[0], row[1], row[2], row[3])\n",
    "\n",
    "\n",
    "    \n",
    "    #요구사항5\n",
    "    code = input(\"조회할 코드를 입력하세요 : \")\n",
    "    sql = f\"select * from item where code = {code}\"\n",
    "    cursor.execute(sql)\n",
    "    rows = cursor.fetchall()\n",
    "    print('===상품조회2===')\n",
    "    print(f'조회할 코드를 입력하세요 : {code}')\n",
    "    if rows :\n",
    "        for row in rows :\n",
    "            print('조회결과는 코드 :', row[0], '제품명 :', row[1],\n",
    "                  '수량 :', row[2], '단가 :', row[3])\n",
    "    else :\n",
    "        print('조회결과 입력한 코드에 맞는 상품이 없습니다.') \n",
    "\n",
    "except Exception as e :\n",
    "    print('db 연동 error :', e)\n",
    "    conn.rollback()\n",
    "\n",
    "finally:\n",
    "    cursor.close()\n",
    "    conn.close()"
   ]
  },
  {
   "cell_type": "code",
   "execution_count": null,
   "metadata": {},
   "outputs": [],
   "source": []
  }
 ],
 "metadata": {
  "kernelspec": {
   "display_name": "Python 3",
   "language": "python",
   "name": "python3"
  },
  "language_info": {
   "codemirror_mode": {
    "name": "ipython",
    "version": 3
   },
   "file_extension": ".py",
   "mimetype": "text/x-python",
   "name": "python",
   "nbconvert_exporter": "python",
   "pygments_lexer": "ipython3",
   "version": "3.8.7"
  },
  "orig_nbformat": 4
 },
 "nbformat": 4,
 "nbformat_minor": 2
}
