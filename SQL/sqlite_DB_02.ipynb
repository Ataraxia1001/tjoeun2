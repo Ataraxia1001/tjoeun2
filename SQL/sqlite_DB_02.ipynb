{
 "cells": [
  {
   "cell_type": "code",
   "execution_count": 7,
   "metadata": {},
   "outputs": [],
   "source": [
    "import sqlite3"
   ]
  },
  {
   "cell_type": "code",
   "execution_count": 8,
   "metadata": {},
   "outputs": [
    {
     "name": "stdout",
     "output_type": "stream",
     "text": [
      "(3, 33, 0)\n"
     ]
    }
   ],
   "source": [
    "print(sqlite3.sqlite_version_info)"
   ]
  },
  {
   "cell_type": "code",
   "execution_count": 18,
   "metadata": {},
   "outputs": [
    {
     "data": {
      "text/plain": [
       "<sqlite3.Cursor at 0x2b001a71650>"
      ]
     },
     "execution_count": 18,
     "metadata": {},
     "output_type": "execute_result"
    }
   ],
   "source": [
    "# conn = sqlite3.connect(\"./data/sqlite2.db\")\n",
    "# cursor = conn.cursor()\n",
    "# sql = 'drop table item'\n",
    "# cursor.execute(sql)"
   ]
  },
  {
   "cell_type": "code",
   "execution_count": 19,
   "metadata": {},
   "outputs": [
    {
     "name": "stdout",
     "output_type": "stream",
     "text": [
      "(1, '선풍기', 1, 150.0)\n",
      "(2, '에어콘', 1, 200.0)\n",
      "(3, '충전기', 1, 100.0)\n",
      "(4, '키보드', 1, 70.0)\n",
      "(5, '마우스', 1, 60.0)\n",
      "조회결과는 코드 : 1 제품명 : 선풍기 수량 : 1 단가 : 150.0\n"
     ]
    }
   ],
   "source": [
    "try:\n",
    "    conn = sqlite3.connect(\"./data/sqlite2.db\")\n",
    "    cursor = conn.cursor()\n",
    "    sql = 'create table if not exists item(code integer, name text(30), qty integer default 0, unit_price real default 0.0)'\n",
    "    cursor.execute(sql)\n",
    "  \n",
    "    cursor.execute(\"insert into item values('1', '선풍기', '1', '150')\")\n",
    "    cursor.execute(\"insert into item values('2', '에어콘', '1', '200')\")\n",
    "    cursor.execute(\"insert into item values('3', '충전기', '1', '100')\")\n",
    "    cursor.execute(\"insert into item values('4', '키보드', '1', '70')\")\n",
    "    cursor.execute(\"insert into item values('5', '마우스', '1', '60')\")\n",
    "    conn.commit()\n",
    " \n",
    "    cursor.execute(\"select * from item\")\n",
    "    rows = cursor.fetchall()\n",
    "    \n",
    "\n",
    "    for row in rows :\n",
    "        print(row)\n",
    "    \n",
    "    code = input(\"코드값을 입력하세요 : \")\n",
    "    sql = f\"select * from item where code like '%{code}'\"\n",
    "    cursor.execute(sql)\n",
    "    rows = cursor.fetchall()\n",
    "    \n",
    "    if rows :\n",
    "        for row in rows :\n",
    "            print('조회결과는 코드 :', row[0], '제품명 :', row[1],\n",
    "                  '수량 :', row[2], '단가 :', row[3])\n",
    "    else :\n",
    "        print('검색된 레코드 없음') \n",
    "    \n",
    "except Exception as e :\n",
    "    print('db 연동 실패 : ', e)\n",
    "    conn.rollback()\n",
    "\n",
    "finally:\n",
    "    cursor.close()\n",
    "    conn.close()"
   ]
  },
  {
   "cell_type": "code",
   "execution_count": null,
   "metadata": {},
   "outputs": [],
   "source": []
  }
 ],
 "metadata": {
  "kernelspec": {
   "display_name": "Python 3",
   "language": "python",
   "name": "python3"
  },
  "language_info": {
   "codemirror_mode": {
    "name": "ipython",
    "version": 3
   },
   "file_extension": ".py",
   "mimetype": "text/x-python",
   "name": "python",
   "nbconvert_exporter": "python",
   "pygments_lexer": "ipython3",
   "version": "3.8.7"
  },
  "orig_nbformat": 4
 },
 "nbformat": 4,
 "nbformat_minor": 2
}
