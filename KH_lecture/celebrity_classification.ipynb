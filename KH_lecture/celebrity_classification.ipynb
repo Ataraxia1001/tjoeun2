{
 "cells": [
  {
   "cell_type": "code",
   "execution_count": 1,
   "id": "ae396285",
   "metadata": {},
   "outputs": [],
   "source": [
    "# 한글 폰트 설치하기 (꼭! 설치가 완료되면 [런타임 다시 시작]을 누르고 다시 실행하기)\n",
    "# !apt install fonts-nanum -y\n",
    "\n",
    "import matplotlib\n",
    "import matplotlib.pyplot as plt\n",
    "import matplotlib.font_manager as fm\n",
    "\n",
    "# # 한글 폰트 설정하기\n",
    "# fontpath = '/usr/share/fonts/truetype/nanum/NanumBarunGothic.ttf'\n",
    "# font = fm.FontProperties(fname=fontpath, size=10)\n",
    "# plt.rc('font', family='NanumBarunGothic')\n",
    "# matplotlib.font_manager._rebuild()\n",
    "import torch\n",
    "device = torch.device(\"cuda:0\" if torch.cuda.is_available() else \"cpu\")\n",
    "\n",
    "from efficientnet_pytorch import EfficientNet"
   ]
  },
  {
   "cell_type": "code",
   "execution_count": 2,
   "id": "2eb50538",
   "metadata": {},
   "outputs": [],
   "source": [
    "\n",
    "from matplotlib import font_manager, rc\n",
    "import matplotlib as mpl\n",
    "mpl.rcParams['axes.unicode_minus'] = False\n",
    "mpl.rc('font', family='Malgun Gothic')\n"
   ]
  },
  {
   "cell_type": "code",
   "execution_count": 3,
   "id": "917a53c1",
   "metadata": {},
   "outputs": [
    {
     "name": "stderr",
     "output_type": "stream",
     "text": [
      "fatal: destination path 'bing_image_downloader' already exists and is not an empty directory.\n"
     ]
    }
   ],
   "source": [
    "# 필요한 라이브러리 설치하기\n",
    "!git clone https://github.com/ndb796/bing_image_downloader"
   ]
  },
  {
   "cell_type": "code",
   "execution_count": 4,
   "id": "a23b843b",
   "metadata": {},
   "outputs": [],
   "source": [
    "import os\n",
    "import shutil\n",
    "from bing_image_downloader.bing_image_downloader import downloader\n",
    "\n",
    "\n",
    "directory_list = [\n",
    "    './custom_dataset/train/',\n",
    "    './custom_dataset/test/',\n",
    "]\n",
    "\n",
    "# 초기 디렉토리 만들기\n",
    "for directory in directory_list:\n",
    "    if not os.path.isdir(directory):\n",
    "        os.makedirs(directory)\n",
    "\n",
    "# 수집한 이미지를 학습 데이터와 평가 데이터로 구분하는 함수\n",
    "def dataset_split(query, train_cnt):\n",
    "    # 학습 및 평가 데이터셋 디렉토리 만들기\n",
    "    for directory in directory_list:\n",
    "        if not os.path.isdir(directory + '/' + query):\n",
    "            os.makedirs(directory + '/' + query)\n",
    "    # 학습 및 평가 데이터셋 준비하기\n",
    "    cnt = 0\n",
    "    for file_name in os.listdir(query):\n",
    "        if cnt < train_cnt:\n",
    "            print(f'[Train Dataset] {file_name}')\n",
    "            shutil.move(query + '/' + file_name, './custom_dataset/train/' + query + '/' + file_name)\n",
    "        else:\n",
    "            print(f'[Test Dataset] {file_name}')\n",
    "            shutil.move(query + '/' + file_name, './custom_dataset/test/' + query + '/' + file_name)\n",
    "        cnt += 1\n",
    "    shutil.rmtree(query)"
   ]
  },
  {
   "cell_type": "code",
   "execution_count": 5,
   "id": "9aee13ad",
   "metadata": {},
   "outputs": [],
   "source": [
    "# query = '마동석'\n",
    "# downloader.download(query, limit=40,  output_dir='./', adult_filter_off=True, force_replace=False, timeout=60)\n",
    "# dataset_split(query, 30)"
   ]
  },
  {
   "cell_type": "code",
   "execution_count": 6,
   "id": "97ab6c62",
   "metadata": {},
   "outputs": [],
   "source": [
    "# query = '김종국'\n",
    "# downloader.download(query, limit=40,  output_dir='./', adult_filter_off=True, force_replace=False, timeout=60)\n",
    "# dataset_split(query, 30)"
   ]
  },
  {
   "cell_type": "code",
   "execution_count": 7,
   "id": "3cd3b2e5",
   "metadata": {},
   "outputs": [],
   "source": [
    "# query = '이병헌'\n",
    "# downloader.download(query, limit=40,  output_dir='./', adult_filter_off=True, force_replace=False, timeout=60)\n",
    "# dataset_split(query, 30)"
   ]
  },
  {
   "cell_type": "code",
   "execution_count": 8,
   "id": "bd2ec7eb",
   "metadata": {},
   "outputs": [],
   "source": [
    "import numpy as np\n",
    "import torch\n",
    "import torch.nn as nn\n",
    "import torch.optim as optim\n",
    "\n",
    "import torchvision\n",
    "from torchvision import datasets, models, transforms\n",
    "\n",
    "import numpy as np\n",
    "import time"
   ]
  },
  {
   "cell_type": "code",
   "execution_count": null,
   "id": "d52c2ff4",
   "metadata": {},
   "outputs": [],
   "source": []
  },
  {
   "cell_type": "code",
   "execution_count": 9,
   "id": "6aae90b4",
   "metadata": {},
   "outputs": [
    {
     "name": "stdout",
     "output_type": "stream",
     "text": [
      "학습 데이터셋 크기: 90\n",
      "테스트 데이터셋 크기: 30\n",
      "클래스: ['김종국', '마동석', '이병헌']\n"
     ]
    }
   ],
   "source": [
    "# 데이터셋을 불러올 때 사용할 변형(transformation) 객체 정의\n",
    "transforms_train = transforms.Compose([\n",
    "    transforms.Resize((512, 512)),\n",
    "    transforms.RandomHorizontalFlip(), # 데이터 증진(augmentation)\n",
    "    transforms.ToTensor(),\n",
    "    transforms.Normalize([0.485, 0.456, 0.406], [0.229, 0.224, 0.225]) # 정규화(normalization)\n",
    "])\n",
    "\n",
    "transforms_test = transforms.Compose([\n",
    "    transforms.Resize((512, 512)),\n",
    "    transforms.ToTensor(),\n",
    "    transforms.Normalize([0.485, 0.456, 0.406], [0.229, 0.224, 0.225])\n",
    "])\n",
    "\n",
    "data_dir = './custom_dataset'\n",
    "train_datasets = datasets.ImageFolder(os.path.join(data_dir, 'train'), transforms_train)\n",
    "test_datasets = datasets.ImageFolder(os.path.join(data_dir, 'test'), transforms_test)\n",
    "\n",
    "train_dataloader = torch.utils.data.DataLoader(train_datasets, batch_size=4, shuffle=True, num_workers=4)\n",
    "test_dataloader = torch.utils.data.DataLoader(test_datasets, batch_size=4, shuffle=True, num_workers=4)\n",
    "\n",
    "print('학습 데이터셋 크기:', len(train_datasets))\n",
    "print('테스트 데이터셋 크기:', len(test_datasets))\n",
    "\n",
    "class_names = train_datasets.classes\n",
    "print('클래스:', class_names)"
   ]
  },
  {
   "cell_type": "code",
   "execution_count": 10,
   "id": "e8a9e76f",
   "metadata": {},
   "outputs": [],
   "source": [
    "# from PIL import Image\n",
    "\n",
    "# # Load and preprocess the image\n",
    "# def preprocess(image_path):\n",
    "#     # Define the transformations to be applied\n",
    "#     transform = transforms.Compose([\n",
    "#         transforms.Resize((512, 512)),              # Resize the image to a specific size\n",
    "#         transforms.ToTensor(),                       # Convert the image to a tensor\n",
    "#         transforms.Normalize(mean=[0.485, 0.456, 0.406], std=[0.229, 0.224, 0.225]),  # Normalize the image\n",
    "#     ])\n",
    "\n",
    "#     # Load the image using PIL\n",
    "#     image = Image.open(image_path)\n",
    "\n",
    "#     # Apply the transformations\n",
    "#     preprocessed_image = transform(image)\n",
    "\n",
    "#     # Add a batch dimension to match the model's input shape\n",
    "#     preprocessed_image = preprocessed_image.unsqueeze(0)\n",
    "\n",
    "#     return preprocessed_image\n",
    "\n",
    "# # # Example usage\n",
    "# image_path = './custom_dataset/train'  # Replace with the path to your image\n",
    "# preprocessed_image = preprocess_image(image_path)\n",
    "\n",
    "# train_datasets = datasets.ImageFolder(os.path.join(data_dir, 'train'))\n",
    "# test_datasets = datasets.ImageFolder(os.path.join(data_dir, 'test'))"
   ]
  },
  {
   "cell_type": "code",
   "execution_count": 11,
   "id": "682b656c",
   "metadata": {},
   "outputs": [],
   "source": [
    "# preprocessed_image_train = preprocess(train_datasets)"
   ]
  },
  {
   "cell_type": "code",
   "execution_count": 12,
   "id": "a861a361",
   "metadata": {},
   "outputs": [],
   "source": [
    "# # Open the image using PIL\n",
    "# image = Image.open('./custom_dataset/train/김종국/image_1.jpg')\n",
    "\n",
    "# # Display image properties\n",
    "# print(\"Image size:\", image.size)\n",
    "# print(\"Image mode:\", image.mode)\n",
    "\n",
    "# # Perform further operations on the image as needed\n",
    "# # ...\n",
    "\n",
    "# # Close the image after you're done\n",
    "# image.close()"
   ]
  },
  {
   "cell_type": "code",
   "execution_count": 14,
   "id": "07043024",
   "metadata": {},
   "outputs": [],
   "source": [
    "# model = models.resnet34(pretrained=True)\n",
    "model = EfficientNet.from_name('efficientnet-b0', num_classes=3)\n",
    "# num_features = model.fc.in_features\n",
    "# 전이 학습(transfer learning): 모델의 출력 뉴런 수를 3개로 교체하여 마지막 레이어 다시 학습\n",
    "# model.fc = nn.Linear(num_features, 3)\n",
    "model = model.to(device)\n",
    "\n",
    "criterion = nn.CrossEntropyLoss()\n",
    "# optimizer = optim.SGD(model.parameters(), lr=0.001, momentum=0.9)\n",
    "optimizer = optim.Adam(model.parameters(), lr=0.001)"
   ]
  },
  {
   "cell_type": "code",
   "execution_count": null,
   "id": "f8bb05d0",
   "metadata": {},
   "outputs": [],
   "source": []
  },
  {
   "cell_type": "code",
   "execution_count": null,
   "id": "4ece05b2",
   "metadata": {},
   "outputs": [
    {
     "name": "stdout",
     "output_type": "stream",
     "text": [
      "#0 Loss: 1.1968 Acc: 40.0000% Time: 116.4613s\n",
      "#1 Loss: 0.9491 Acc: 51.1111% Time: 233.1682s\n",
      "#2 Loss: 1.0169 Acc: 45.5556% Time: 347.5349s\n",
      "#3 Loss: 0.9340 Acc: 57.7778% Time: 461.3186s\n",
      "#4 Loss: 0.9776 Acc: 53.3333% Time: 575.7684s\n",
      "#5 Loss: 0.9929 Acc: 53.3333% Time: 689.6529s\n",
      "#6 Loss: 0.8695 Acc: 62.2222% Time: 803.2070s\n",
      "#7 Loss: 0.7996 Acc: 61.1111% Time: 917.1191s\n",
      "#8 Loss: 0.7389 Acc: 67.7778% Time: 1031.1025s\n",
      "#9 Loss: 1.0237 Acc: 51.1111% Time: 1144.8861s\n",
      "#10 Loss: 0.9520 Acc: 52.2222% Time: 1258.9689s\n",
      "#11 Loss: 0.9086 Acc: 61.1111% Time: 1373.0194s\n",
      "#12 Loss: 0.9029 Acc: 56.6667% Time: 1486.6856s\n",
      "#13 Loss: 0.8199 Acc: 60.0000% Time: 1600.4530s\n",
      "#14 Loss: 0.8370 Acc: 62.2222% Time: 1715.3526s\n",
      "#15 Loss: 0.9374 Acc: 61.1111% Time: 1829.0531s\n",
      "#16 Loss: 0.7889 Acc: 62.2222% Time: 1943.0195s\n",
      "#17 Loss: 0.9240 Acc: 56.6667% Time: 2056.8862s\n",
      "#18 Loss: 0.7834 Acc: 64.4444% Time: 2171.2858s\n",
      "#19 Loss: 0.7513 Acc: 62.2222% Time: 2285.5864s\n",
      "#20 Loss: 0.8360 Acc: 64.4444% Time: 2400.1693s\n",
      "#21 Loss: 0.7260 Acc: 71.1111% Time: 2514.9203s\n",
      "#22 Loss: 0.7479 Acc: 65.5556% Time: 2631.0532s\n",
      "#23 Loss: 0.7044 Acc: 63.3333% Time: 2745.8033s\n",
      "#24 Loss: 0.7948 Acc: 64.4444% Time: 2860.6363s\n",
      "#25 Loss: 0.7509 Acc: 67.7778% Time: 2976.8245s\n",
      "#26 Loss: 0.6875 Acc: 73.3333% Time: 3093.0880s\n",
      "#27 Loss: 0.6514 Acc: 73.3333% Time: 3210.4204s\n",
      "#28 Loss: 0.5642 Acc: 78.8889% Time: 3328.3871s\n"
     ]
    }
   ],
   "source": [
    "num_epochs = 50\n",
    "model.train()\n",
    "start_time = time.time()\n",
    "\n",
    "# 전체 반복(epoch) 수 만큼 반복하며\n",
    "for epoch in range(num_epochs):\n",
    "    running_loss = 0.\n",
    "    running_corrects = 0\n",
    "\n",
    "    # 배치 단위로 학습 데이터 불러오기\n",
    "    for inputs, labels in train_dataloader:\n",
    "        inputs = inputs.to(device)\n",
    "        labels = labels.to(device)\n",
    "\n",
    "        # 모델에 입력(forward)하고 결과 계산\n",
    "        optimizer.zero_grad()\n",
    "        outputs = model(inputs)\n",
    "        _, preds = torch.max(outputs, 1)\n",
    "        loss = criterion(outputs, labels)\n",
    "\n",
    "        # 역전파를 통해 기울기(gradient) 계산 및 학습 진행\n",
    "        loss.backward()\n",
    "        optimizer.step()\n",
    "\n",
    "        running_loss += loss.item() * inputs.size(0)\n",
    "        running_corrects += torch.sum(preds == labels.data)\n",
    "\n",
    "    epoch_loss = running_loss / len(train_datasets)\n",
    "    epoch_acc = running_corrects / len(train_datasets) * 100.\n",
    "\n",
    "    # 학습 과정 중에 결과 출력\n",
    "    print('#{} Loss: {:.4f} Acc: {:.4f}% Time: {:.4f}s'.format(epoch, epoch_loss, epoch_acc, time.time() - start_time))"
   ]
  },
  {
   "cell_type": "code",
   "execution_count": null,
   "id": "9b981b1e",
   "metadata": {},
   "outputs": [],
   "source": []
  },
  {
   "cell_type": "code",
   "execution_count": null,
   "id": "8d8f60d9",
   "metadata": {},
   "outputs": [],
   "source": []
  },
  {
   "cell_type": "code",
   "execution_count": null,
   "id": "1aad2024",
   "metadata": {},
   "outputs": [],
   "source": [
    "model.eval()\n",
    "start_time = time.time()\n",
    "\n",
    "with torch.no_grad():\n",
    "    running_loss = 0.\n",
    "    running_corrects = 0\n",
    "\n",
    "    for inputs, labels in test_dataloader:\n",
    "        inputs = inputs.to(device)\n",
    "        labels = labels.to(device)\n",
    "\n",
    "        outputs = model(inputs)\n",
    "        _, preds = torch.max(outputs, 1)\n",
    "        loss = criterion(outputs, labels)\n",
    "\n",
    "        running_loss += loss.item() * inputs.size(0)\n",
    "        running_corrects += torch.sum(preds == labels.data)\n",
    "\n",
    "        # 한 배치의 첫 번째 이미지에 대하여 결과 시각화\n",
    "        print(f'[예측 결과: {class_names[preds[0]]}] (실제 정답: {class_names[labels.data[0]]})')\n",
    "        imshow(inputs.cpu().data[0], title='예측 결과: ' + class_names[preds[0]])\n",
    "\n",
    "    epoch_loss = running_loss / len(test_datasets)\n",
    "    epoch_acc = running_corrects / len(test_datasets) * 100.\n",
    "    print('[Test Phase] Loss: {:.4f} Acc: {:.4f}% Time: {:.4f}s'.format(epoch_loss, epoch_acc, time.time() - start_time))"
   ]
  }
 ],
 "metadata": {
  "kernelspec": {
   "display_name": "Python 3 (ipykernel)",
   "language": "python",
   "name": "python3"
  },
  "language_info": {
   "codemirror_mode": {
    "name": "ipython",
    "version": 3
   },
   "file_extension": ".py",
   "mimetype": "text/x-python",
   "name": "python",
   "nbconvert_exporter": "python",
   "pygments_lexer": "ipython3",
   "version": "3.8.7"
  }
 },
 "nbformat": 4,
 "nbformat_minor": 5
}
